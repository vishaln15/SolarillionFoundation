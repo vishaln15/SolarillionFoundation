{
 "cells": [
  {
   "cell_type": "markdown",
   "metadata": {},
   "source": [
    "# Machine Learning Basics\n",
    "In this module, you'll be acquiring and handling datasets. You will be using the Cinema Data, Salary Data and Reviews Data for the tasks in this module. <br> <br>\n",
    "**Pipeline:**\n",
    "* Acquiring the data\n",
    "* Handling files and formats\n",
    "* Data Analysis\n",
    "* Prediction\n",
    "* Analysing results"
   ]
  },
  {
   "cell_type": "markdown",
   "metadata": {},
   "source": [
    "## Task 1 - Data Acquisition\n",
    "* Retrieve the CinemaData dataset from Firebase, convert it to a CSV and save it in the 'Data' folder as 'CinemaData.csv'. You may use shell scripts, other packages and any other resources you require to do this. The database can be accessed with a HTTP request, ask a TA for the link. <br> \n",
    "* Using `wget`, download the 'SalaryData.txt' and save it in the 'Data' folder. Convert it to a CSV named 'SalaryData.csv' and save it in the same folder. It is avaliable at this link: <br>\n",
    "http://rebrand.ly/ml_salarydata"
   ]
  },
  {
   "cell_type": "code",
   "execution_count": 31,
   "metadata": {},
   "outputs": [],
   "source": [
    "import pandas as pd\n",
    "import io\n",
    "import requests\n",
    "import urllib.request\n",
    "from urllib.request import urlopen\n",
    "import urllib\n",
    "url1=\"https://sf-mlbasics.firebaseio.com/CinemaData.json\"\n",
    "s1=requests.get(url1).content\n",
    "df1=pd.read_json(io.StringIO(s1.decode('utf-8')))\n",
    "df1.to_csv(\"Data/CinemaData.csv\")\n",
    "url2=\"http://rebrand.ly/ml_salarydata\"\n",
    "file=urlopen(url2).read()\n",
    "file = file.decode('utf-8')\n",
    "f = open(\"Data/SalaryData.txt\",\"w\")\n",
    "for line in file:\n",
    "    f.write(line)\n",
    "f.close()\n",
    "df2 = pd.read_csv(\"Data/SalaryData.txt\", delimiter = ' ')\n",
    "df2.to_csv(\"Data/SalaryData.csv\")"
   ]
  },
  {
   "cell_type": "markdown",
   "metadata": {},
   "source": [
    "# Task 2 - Dataset Handling\n",
    "* You can find the Reviews Data in a RAR file in the 'Data' directory. Extract this dataset and use it for this module.\n",
    "\n",
    "* The dataset contains positive and negative movie reviews. The files 'Positive_Reviews.txt' and 'Negative_Reviews.txt' contain names of files having positive and negative reviews respectively. Create two directories ‘pos’ and ‘neg’, and segregate the reviews accordingly into the two directories.\n",
    "\n",
    "* Load ‘cv000_29590.csv’ and report the number of words present in the first column.\n",
    "\n",
    "* Find the number of unique words in the first column. For this task, ignore punctuations, that is, punctuations are not considered as a word or a part of it.\n",
    "\n",
    "* Lookups: OS module, String functions\n",
    "\n"
   ]
  },
  {
   "cell_type": "code",
   "execution_count": 32,
   "metadata": {},
   "outputs": [
    {
     "name": "stdout",
     "output_type": "stream",
     "text": [
      "278\n",
      "171\n"
     ]
    }
   ],
   "source": [
    "from pyunpack import Archive\n",
    "import shutil, os\n",
    "#Archive(\"Data/Reviews.rar\").extractall(\".\")\n",
    "try:\n",
    "    os.mkdir(\"Data/pos\")\n",
    "    os.mkdir(\"Data/neg\")\n",
    "except OSError:\n",
    "    pass\n",
    "f1 = open(\"Assignment_1_a/Positive_Reviews.txt\",\"r\")\n",
    "f2 = open(\"Assignment_1_a/Negative_Reviews.txt\",\"r\")\n",
    "res1 = eval(f1.readline())\n",
    "res2 = eval(f2.readline())\n",
    "for f in res1:\n",
    "    shutil.copy(\"Reviews/Reviews/\"+f, \"Data/pos\")\n",
    "for v in res2:\n",
    "    shutil.copy(\"Reviews/Reviews/\"+v, \"Data/neg\")\n",
    "load_file = \"cv000_29590.txt\"\n",
    "if load_file in f1.readline():\n",
    "    load_file = \"Data/pos/\"+load_file\n",
    "    df3 = pd.read_csv(load_file)\n",
    "df = df3.iloc[:,0].values\n",
    "string = \" \"\n",
    "string  = ' '.join(df)\n",
    "s = ''\n",
    "for i in [':','!','?','.',')','(',';',',',\"\\\"\",\"\\'\",'-','_']:\n",
    "        string = string.replace(i,'')\n",
    "no_of_words = 0\n",
    "for i in range(len(string)):\n",
    "    if string[i].isspace():\n",
    "        no_of_words+=1\n",
    "print(no_of_words+1)\n",
    "l = string.split(\" \")\n",
    "while '' in l:\n",
    "    l.remove('')\n",
    "print(len(set(l)))"
   ]
  }
 ],
 "metadata": {
  "kernelspec": {
   "display_name": "Python 3",
   "language": "python",
   "name": "python3"
  },
  "language_info": {
   "codemirror_mode": {
    "name": "ipython",
    "version": 3
   },
   "file_extension": ".py",
   "mimetype": "text/x-python",
   "name": "python",
   "nbconvert_exporter": "python",
   "pygments_lexer": "ipython3",
   "version": "3.7.4"
  }
 },
 "nbformat": 4,
 "nbformat_minor": 2
}
