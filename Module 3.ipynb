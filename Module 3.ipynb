{
 "cells": [
  {
   "cell_type": "markdown",
   "metadata": {
    "colab_type": "text",
    "id": "yvRFuFBLrsac"
   },
   "source": [
    "# Machine Learning Basics\n",
    "In this module, you'll be implementing a simple Linear Regressor and Logistic Regressor. You will be using the Salary Data for the tasks in this module. <br> <br>\n",
    "**Pipeline:**\n",
    "* Acquiring the data - done\n",
    "* Handling files and formats - done\n",
    "* Data Analysis - done\n",
    "* Prediction\n",
    "* Analysing results"
   ]
  },
  {
   "cell_type": "markdown",
   "metadata": {
    "colab_type": "text",
    "id": "AwvgLLICtyt_"
   },
   "source": [
    "## Imports\n",
    "You may require NumPy, pandas, matplotlib and scikit-learn for this module. Do not, however, use the inbuilt Linear and Logistic Regressors from scikit-learn."
   ]
  },
  {
   "cell_type": "code",
   "execution_count": 131,
   "metadata": {},
   "outputs": [],
   "source": [
    "import pandas as pd\n",
    "import numpy as np\n",
    "import matplotlib.pyplot as plt\n",
    "from statistics import mean\n",
    "from sklearn.model_selection import train_test_split\n",
    "from numpy.random import rand\n",
    "import statistics"
   ]
  },
  {
   "cell_type": "markdown",
   "metadata": {
    "colab_type": "text",
    "id": "yE5Sz6nKvjTS"
   },
   "source": [
    "## Dataset\n",
    "You can load the dataset and perform any dataset related operations here. Split the data into training and testing sets. Do this separately for the regression and classification problems."
   ]
  },
  {
   "cell_type": "code",
   "execution_count": 132,
   "metadata": {},
   "outputs": [],
   "source": [
    "df = pd.read_csv(\"Data/SalaryData.csv\")\n",
    "x = df.iloc[:, 1]\n",
    "y = df.iloc[:, 2]\n",
    "x_train, x_test, y_train, y_test = train_test_split(x, y, test_size = 1/3, random_state = 0)"
   ]
  },
  {
   "cell_type": "markdown",
   "metadata": {
    "colab_type": "text",
    "id": "VienPTZA1ZEr"
   },
   "source": [
    "## Task 1a - Linear Regressor\n",
    "Code your own Linear Regressor here, and fit it to your training data. You will be predicting salary based on years of experience."
   ]
  },
  {
   "cell_type": "code",
   "execution_count": 133,
   "metadata": {},
   "outputs": [
    {
     "data": {
      "image/png": "[encoded data removed]",
      "text/plain": [
       "<Figure size 432x288 with 1 Axes>"
      ]
     },
     "metadata": {
      "needs_background": "light"
     },
     "output_type": "display_data"
    },
    {
     "data": {
      "image/png": "[encoded data removed]",
      "text/plain": [
       "<Figure size 432x288 with 1 Axes>"
      ]
     },
     "metadata": {
      "needs_background": "light"
     },
     "output_type": "display_data"
    }
   ],
   "source": [
    "w = rand(1)\n",
    "b = rand(1)\n",
    "lr = 0.01 #learning_rate\n",
    "x_traintemp = x_train.values\n",
    "y_traintemp = y_train.values\n",
    "for k in range(5000):\n",
    "    y_d = 0.0\n",
    "    x_d = 0.0\n",
    "    y_pred = [w*i + b for i in x_traintemp]\n",
    "    y_pred = np.array(y_pred)\n",
    "    for i in range(len(y_pred)):\n",
    "        y_d+=(y_pred[i]-y_traintemp[i])*x_traintemp[i]/len(y_pred) \n",
    "    y_d = y_d\n",
    "    for i in range(len(y_pred)):\n",
    "        x_d+=(y_pred[i]-y_traintemp[i])/len(y_pred)\n",
    "    x_d = x_d/len(y_pred)\n",
    "    w = w + lr*(y_d*-1)\n",
    "    b = b + lr*(x_d*-1)\n",
    "y_predout = [w*i+b for i in x_test]\n",
    "plt.scatter(x_test, y_predout, color = \"red\")\n",
    "plt.scatter(x_test, y_test, color = \"green\")\n",
    "plt.show()\n",
    "plt.scatter(x_test, y_test, color = \"green\")\n",
    "plt.plot(x_test, w*x_test+b)\n",
    "plt.show()"
   ]
  },
  {
   "cell_type": "markdown",
   "metadata": {},
   "source": [
    "## Task 1b - Logistic Regression\n",
    "Code your own Logistic Regressor here, and fit it to your training data. You will first have to create a column, 'Salary<60000', which contains '1' if salary is less than 60000 and '0' otherwise. This is your target variable, which you will aim to predict based on years of experience."
   ]
  },
  {
   "cell_type": "code",
   "execution_count": 92,
   "metadata": {},
   "outputs": [],
   "source": [
    "def sigmoid(i):\n",
    "    return 1/(1+np.exp(-i))"
   ]
  },
  {
   "cell_type": "code",
   "execution_count": 93,
   "metadata": {},
   "outputs": [
    {
     "name": "stdout",
     "output_type": "stream",
     "text": [
      "[-1.52980137] [5.554877]\n"
     ]
    },
    {
     "data": {
      "image/png": "[encoded data removed]",
      "text/plain": [
       "<Figure size 432x288 with 1 Axes>"
      ]
     },
     "metadata": {
      "needs_background": "light"
     },
     "output_type": "display_data"
    }
   ],
   "source": [
    "df['Salary<60000'] = [1 if x<60000 else 0 for x in df['Salary']]\n",
    "x_t = df.iloc[:, 3]\n",
    "x_traintemp = x_train.values\n",
    "y_traintemp = y_train.values\n",
    "train_log = []\n",
    "test_log = []\n",
    "lr = 0.05\n",
    "for i in x_train.index:\n",
    "    train_log.append(x_t[i])\n",
    "for i in x_test.index:\n",
    "    test_log.append(x_t[i])\n",
    "train_log = pd.Series(train_log)\n",
    "test_log = pd.Series(test_log)\n",
    "m = rand(1)\n",
    "c = rand(1)\n",
    "for i in range(5000):\n",
    "    y_d = 0.0\n",
    "    x_d = 0.0\n",
    "    y_predtemp = [m*i+c for i in x_traintemp]\n",
    "    y_pred = list(map(sigmoid, y_predtemp))\n",
    "    for j in range(len(y_pred)):\n",
    "        y_d+=(y_pred[j]-train_log[j])*x_traintemp[j]\n",
    "    for j in range(len(y_pred)):\n",
    "        x_d+=(y_pred[j]-train_log[j])\n",
    "    y_d/=len(y_pred)\n",
    "    x_d/=len(y_pred)\n",
    "    m = m + lr*(y_d*-1)\n",
    "    c = c + lr*(x_d*-1)\n",
    "print(m, c)\n",
    "plt.scatter(x_test, test_log)\n",
    "plt.plot(x, sigmoid(m*x+c))\n",
    "plt.show()"
   ]
  },
  {
   "cell_type": "markdown",
   "metadata": {
    "colab_type": "text",
    "id": "vaCu6RS52qYf"
   },
   "source": [
    "## Task 2 - Results\n",
    "Analyse the quality of the ML models you built using metrics such as R2, MAE and RMSE for the Linear Regressor, and Accuracy for the Logistic Regressor. Evaluate their performance on the testing set."
   ]
  },
  {
   "cell_type": "code",
   "execution_count": 130,
   "metadata": {},
   "outputs": [
    {
     "name": "stdout",
     "output_type": "stream",
     "text": [
      "[0.95155382] [6935.9032246] [7634.9250599]\n"
     ]
    }
   ],
   "source": [
    "ss_res = 0.0\n",
    "ss_tot = 0.0\n",
    "mae = 0.0\n",
    "rmse = 0.0\n",
    "for i in x_test.index:\n",
    "    ss_res+=(y_test[i]-(w*x_test[i]+b))**2\n",
    "    ss_tot+=(mean(y_test)-(w*x_test[i]+b))**2\n",
    "    mae+=abs(y_test[i]-(w*x_test[i]+b))\n",
    "ss_res/=len(y_test)\n",
    "ss_tot/=len(y_test)\n",
    "mae/=len(y_test)\n",
    "rmse = ss_res**0.5\n",
    "r2 = 1-(ss_res/ss_tot)\n",
    "print(r2, mae, rmse)"
   ]
  },
  {
   "cell_type": "code",
   "execution_count": 118,
   "metadata": {},
   "outputs": [
    {
     "data": {
      "text/plain": [
       "0.8888888888888888"
      ]
     },
     "execution_count": 118,
     "metadata": {},
     "output_type": "execute_result"
    }
   ],
   "source": [
    "from sklearn.metrics import confusion_matrix\n",
    "pred = []\n",
    "for i in x_test:\n",
    "    if sigmoid(m*i+c)>0.5:\n",
    "        pred.append(1)\n",
    "    else:\n",
    "        pred.append(0)\n",
    "pred = pd.Series(pred)\n",
    "tn, fp, fn, tp = confusion_matrix(test_log, pred).ravel()\n",
    "accuracy = (tp+tn)/(tp+tn+fp+fn)\n",
    "recall = tp/(tp+fn)\n",
    "precision = tp/(tp+fp)\n",
    "f_score = [accuracy, precision]\n",
    "f1_score = statistics.harmonic_mean(f_score)"
   ]
  }
 ],
 "metadata": {
  "colab": {
   "name": "Untitled15.ipynb",
   "provenance": [],
   "version": "0.3.2"
  },
  "kernelspec": {
   "display_name": "Python 3",
   "language": "python",
   "name": "python3"
  },
  "language_info": {
   "codemirror_mode": {
    "name": "ipython",
    "version": 3
   },
   "file_extension": ".py",
   "mimetype": "text/x-python",
   "name": "python",
   "nbconvert_exporter": "python",
   "pygments_lexer": "ipython3",
   "version": "3.7.4"
  }
 },
 "nbformat": 4,
 "nbformat_minor": 1
}
