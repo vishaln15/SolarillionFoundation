{
 "cells": [
  {
   "cell_type": "markdown",
   "metadata": {},
   "source": [
    "# Python Basics"
   ]
  },
  {
   "cell_type": "markdown",
   "metadata": {},
   "source": [
    "These assignments aim to get you acquainted with Python, which is an important requirement for all the research done at Solarillion Foundation. Apart from teaching you Python, these assignments also aim to make you a better programmer and cultivate better coding practices. \n",
    "\n",
    "Visit these links for more details: <br>\n",
    "PEP8 Practices: https://www.python.org/dev/peps/pep-0008/ <br>\n",
    "Check PEP8: http://pep8online.com <br>\n",
    "Python Reference: https://www.py4e.com/lessons <br>\n",
    "\n",
    "Do use Google efficiently, and refer to StackOverflow for clarifying any programming doubts. If you're still stuck, feel free to ask a TA to help you.\n",
    "\n",
    "Each task in the assignment comprises of at least two cells. There are function definitions wherein you will name the function(s), and write code to solve the problem at hand. You will call the function(s) in the last cell of each task, and check your output.\n",
    "\n",
    "We encourage you to play around and learn as much as possible, and be as creative as you can get. More than anything, have fun doing these assignments. Enjoy!"
   ]
  },
  {
   "cell_type": "markdown",
   "metadata": {},
   "source": [
    "# Important\n",
    "* **Only the imports and functions must be present when you upload this notebook to GitHub for verification.** \n",
    "* **Do not upload it until you want to get it verified. Do not change function names or add extra cells or code, or remove anything.**\n",
    "* **For your rough work and four showing your code to TAs, use a different notebook with the name Module2Playground.ipynb and copy only the final functions to this notebook for verification.**"
   ]
  },
  {
   "cell_type": "markdown",
   "metadata": {},
   "source": [
    "# Module 2\n",
    "Scope: NumPy, pandas, pickle, matplotlib, File operations"
   ]
  },
  {
   "cell_type": "markdown",
   "metadata": {},
   "source": [
    "## Imports - Always Execute First!\n",
    "Import any modules and turn on any magic here:"
   ]
  },
  {
   "cell_type": "code",
   "execution_count": null,
   "metadata": {},
   "outputs": [],
   "source": [
    "import csv\n",
    "import matplotlib as mpl\n",
    "import matplotlib.pyplot as plt\n",
    "import numpy as np\n",
    "import pandas as pd\n",
    "import pickle as pkl\n",
    "from IPython import get_ipython\n",
    "ipy = get_ipython()\n",
    "if ipy is not None:\n",
    "    ipy.run_line_magic(\"load_ext\", \"pycodestyle_magic\")\n",
    "    ipy.run_line_magic(\"pycodestyle_on\", \"\")\n",
    "    ipy.run_line_magic(\"matplotlib\", \"inline\")"
   ]
  },
  {
   "cell_type": "markdown",
   "metadata": {},
   "source": [
    "## Task 1"
   ]
  },
  {
   "cell_type": "markdown",
   "metadata": {},
   "source": [
    "Basics of NumPy, pandas, pickle and matplotlib."
   ]
  },
  {
   "cell_type": "markdown",
   "metadata": {},
   "source": [
    "**Question 1**"
   ]
  },
  {
   "cell_type": "code",
   "execution_count": null,
   "metadata": {},
   "outputs": [],
   "source": [
    "\"\"\"\n",
    "    Read the pickle file 'Data/Stress.pkl' and transform the contents into a\n",
    "    a pandas DataFrame of the following form:\n",
    "    \n",
    "            +------+------+------+-----+------+-------+\n",
    "            | ACCx | ACCy | ACCz | ECG | RESP | LABEL |\n",
    "            +------+------+------+-----+------+-------+\n",
    "            |      |      |      |     |      |       |\n",
    "            +------+------+------+-----+------+-------+\n",
    "            |      |      |      |     |      |       |\n",
    "            +------+------+------+-----+------+-------+\n",
    "            |      |      |      |     |      |       |\n",
    "            +------+------+------+-----+------+-------+\n",
    "\n",
    "            Shape: (700, 6)\n",
    "\n",
    "    Save this DataFrame as a CSV file.\n",
    "\n",
    "    Modules\n",
    "    -------\n",
    "    pickle, pandas\n",
    "    \n",
    "    Lookups\n",
    "    -------\n",
    "    NumPy and pandas basics (Check the Lookups folder)\n",
    "    Try to complete the tasks in the Lookups, and play around with the notebooks.\n",
    "\"\"\"        "
   ]
  },
  {
   "cell_type": "code",
   "execution_count": 504,
   "metadata": {},
   "outputs": [],
   "source": [
    "def pickle_to_csv(filename):\n",
    "    \n",
    "    x = pkl.load(open(filename,'rb'))\n",
    "    d = x['signal']\n",
    "    ACC = d['ACC']\n",
    "    raw_data['ACCx'] = [i[0] for i in ACC]\n",
    "    raw_data['ACCy'] = [i[1] for i in ACC]\n",
    "    raw_data['ACCz'] = [i[2] for i in ACC]\n",
    "    raw_data['ECG'] = [i[0] for i in d['ECG']]\n",
    "    raw_data['RESP'] = [i[0] for i in d['RESP']]\n",
    "    raw_data['LABEL'] = [i[0] for i in d['LABEL']]\n",
    "    df = pd.DataFrame(raw_data)\n",
    "    df.to_csv('Data/Stress.csv', index=False, encoding='utf-8')\n",
    "    return \"Data/Stress.csv\""
   ]
  },
  {
   "cell_type": "code",
   "execution_count": 505,
   "metadata": {},
   "outputs": [
    {
     "name": "stdout",
     "output_type": "stream",
     "text": [
      "       ACCx    ACCy    ACCz       ECG      RESP  LABEL\n",
      "0    0.9554 -0.2220 -0.5580  0.021423 -1.148987    0.0\n",
      "1    0.9258 -0.2216 -0.5538  0.020325 -1.124573    0.0\n",
      "2    0.9082 -0.2196 -0.5392  0.016525 -1.152039    0.0\n",
      "3    0.8974 -0.2102 -0.5122  0.016708 -1.158142    0.0\n",
      "4    0.8882 -0.2036 -0.4824  0.011673 -1.161194    0.0\n",
      "..      ...     ...     ...       ...       ...    ...\n",
      "695  0.9134 -0.1400  0.1074  0.003479  2.299500    7.0\n",
      "696  0.9092 -0.1394  0.0994  0.000778  2.305603    7.0\n",
      "697  0.9084 -0.1414  0.0934 -0.001694  2.297974    7.0\n",
      "698  0.9116 -0.1416  0.0958 -0.003799  2.354431    7.0\n",
      "699  0.9156 -0.1396  0.1022 -0.006546  2.355957    7.0\n",
      "\n",
      "[700 rows x 6 columns]\n"
     ]
    }
   ],
   "source": [
    "# Call your function here\n",
    "\n",
    "file = pickle_to_csv(\"Data/Stress.pkl\")"
   ]
  },
  {
   "cell_type": "markdown",
   "metadata": {},
   "source": [
    "**Question 2**"
   ]
  },
  {
   "cell_type": "code",
   "execution_count": null,
   "metadata": {},
   "outputs": [],
   "source": [
    "\"\"\"\n",
    "    Find the number of occurrences of each unique value in `LABEL` (count of values).\n",
    "    \n",
    "    Add a column `BINARY` to the DataFrame which contains 1 if `LABEL` is 2,\n",
    "    else 0.\n",
    "    \n",
    "    Find the mean, minimum, maximum and standard deviation of `RESP` for each value in `LABEL`.\n",
    "\"\"\""
   ]
  },
  {
   "cell_type": "code",
   "execution_count": 508,
   "metadata": {},
   "outputs": [],
   "source": [
    "def count_unique(dataframe):\n",
    "    LABEL = dataframe.iloc[:, 5].values\n",
    "    LABEL = LABEL.tolist()\n",
    "    d = {}\n",
    "    l = [[x,LABEL.count(x)] for x in set(LABEL)]\n",
    "    list_of_keys = []\n",
    "    list_of_values = []\n",
    "    list_of_keys = list(l[i][0] for i in range(len(l)))\n",
    "    list_of_values = list(l[i][1] for i in range(len(l)))\n",
    "    d = dict((key,value) for (key,value) in zip(list_of_keys, list_of_values))\n",
    "    return d\n",
    "    \n",
    "    \n",
    "    \"\"\"\n",
    "        Function 1: count_unique(dataframe)\n",
    "        Parameters: dataframe: Stress data DataFrame\n",
    "        Return: dict containing count of values in `LABEL`\n",
    "    \"\"\"\n",
    "    "
   ]
  },
  {
   "cell_type": "code",
   "execution_count": 509,
   "metadata": {},
   "outputs": [
    {
     "name": "stdout",
     "output_type": "stream",
     "text": [
      "{0.0: 100, 1.0: 100, 2.0: 100, 3.0: 100, 4.0: 100, 6.0: 100, 7.0: 100}\n"
     ]
    }
   ],
   "source": [
    "# Call your function here\n",
    "import pandas as pd\n",
    "dataset = pd.read_csv('Data/Stress.csv')\n",
    "d = count_unique(dataset)"
   ]
  },
  {
   "cell_type": "code",
   "execution_count": 530,
   "metadata": {},
   "outputs": [],
   "source": [
    "def add_binary(dataframe):\n",
    "    dataframe['BINARY'] = [1 if x==2.0 else 0 for x in dataframe['LABEL']]\n",
    "    return dataframe\n",
    "    \"\"\"\n",
    "        Function 2: add_binary(dataframe)\n",
    "        Parameters: dataframe: Stress data DataFrame\n",
    "        Return: DataFrame (updated, containing `BINARY`)\n",
    "    \"\"\"\n",
    "    "
   ]
  },
  {
   "cell_type": "code",
   "execution_count": 531,
   "metadata": {},
   "outputs": [
    {
     "name": "stdout",
     "output_type": "stream",
     "text": [
      "       ACCx    ACCy    ACCz       ECG      RESP  LABEL  BINARY\n",
      "0    0.9554 -0.2220 -0.5580  0.021423 -1.148987    0.0       0\n",
      "1    0.9258 -0.2216 -0.5538  0.020325 -1.124573    0.0       0\n",
      "2    0.9082 -0.2196 -0.5392  0.016525 -1.152039    0.0       0\n",
      "3    0.8974 -0.2102 -0.5122  0.016708 -1.158142    0.0       0\n",
      "4    0.8882 -0.2036 -0.4824  0.011673 -1.161194    0.0       0\n",
      "..      ...     ...     ...       ...       ...    ...     ...\n",
      "695  0.9134 -0.1400  0.1074  0.003479  2.299500    7.0       0\n",
      "696  0.9092 -0.1394  0.0994  0.000778  2.305603    7.0       0\n",
      "697  0.9084 -0.1414  0.0934 -0.001694  2.297974    7.0       0\n",
      "698  0.9116 -0.1416  0.0958 -0.003799  2.354431    7.0       0\n",
      "699  0.9156 -0.1396  0.1022 -0.006546  2.355957    7.0       0\n",
      "\n",
      "[700 rows x 7 columns]\n"
     ]
    }
   ],
   "source": [
    "# Call your function here\n",
    "#dataframe\n",
    "dataframe = pd.read_csv('Data/Stress.csv')\n",
    "dataframe = add_binary(dataframe)"
   ]
  },
  {
   "cell_type": "code",
   "execution_count": 512,
   "metadata": {},
   "outputs": [],
   "source": [
    "def compute_resp(dataframe):\n",
    "    dict = {}\n",
    "    list_uniq = dataframe['LABEL'].unique()\n",
    "    dict_agg = dataframe.groupby(['LABEL']).agg({'RESP':['mean', 'min', 'max', 'std']}).to_dict()\n",
    "    for i in list_uniq:\n",
    "        dict[i] = [j[i] for j in dict_agg.values()]\n",
    "    return (dict)\n",
    "    \n",
    "    \"\"\"\n",
    "        Function 3: compute_resp(dataframe)\n",
    "        Parameters: dataframe: Stress data DataFrame\n",
    "        Return: dict containing mean, min, max and standard deviation of `RESP`\n",
    "                for each value in `LABEL`\n",
    "        Dictionary Format: {label_value: [mean, min, max, std_dev]}\n",
    "        Example: {1: [1, 0, 2, 1], 2: [0, -1, 1, 1], ... }\n",
    "    \"\"\"\n",
    "    "
   ]
  },
  {
   "cell_type": "code",
   "execution_count": 513,
   "metadata": {
    "scrolled": true
   },
   "outputs": [
    {
     "name": "stdout",
     "output_type": "stream",
     "text": [
      "{0.0: [-1.19342041015625, -1.39617919921875, -1.12457275390625, 0.042247046316039066], 1.0: [0.7134246826171875, -0.23345947265625, 1.19171142578125, 0.29553391572374704], 2.0: [-1.0665130615234375, -1.63116455078125, -0.86517333984375, 0.12823314954549303], 6.0: [0.084747314453125, -0.4180908203125, 0.16632080078125, 0.08561486266706554], 4.0: [-2.1305999755859375, -2.54364013671875, -2.00042724609375, 0.08807708808175217], 3.0: [-0.5306396484375, -1.27105712890625, -0.09918212890625, 0.24397469864245044], 7.0: [1.1905059814453125, -0.00457763671875, 2.35595703125, 0.6931962371698447]}\n"
     ]
    }
   ],
   "source": [
    "# Call your function here\n",
    "import pandas as pd\n",
    "dataframe = pd.read_csv('Data/Stress.csv')\n",
    "d = {}\n",
    "d = compute_resp(dataframe)"
   ]
  },
  {
   "cell_type": "markdown",
   "metadata": {},
   "source": [
    "**Question 3**"
   ]
  },
  {
   "cell_type": "code",
   "execution_count": null,
   "metadata": {},
   "outputs": [],
   "source": [
    "\"\"\"\n",
    "    Plot `RESP` using matplotlib (pyplot):\n",
    "    - First, just plot the raw values.\n",
    "    - Next, try using different colours for data points based on `BINARY`.\n",
    "    - Experiment and come up with a useful plot.\n",
    "\"\"\""
   ]
  },
  {
   "cell_type": "code",
   "execution_count": 536,
   "metadata": {},
   "outputs": [],
   "source": [
    "def plot_raw(dataframe):\n",
    "    plt.plot(dataframe['RESP'].index, dataframe['RESP'])\n",
    "    plt.show(block = False)\n",
    "    \"\"\"\n",
    "        Function 1: plot_raw(dataframe)\n",
    "        Parameters: dataframe: Stress data DataFrame\n",
    "        Output: Plot\n",
    "    \"\"\"\n",
    "    "
   ]
  },
  {
   "cell_type": "code",
   "execution_count": 537,
   "metadata": {},
   "outputs": [
    {
     "data": {
      "image/png": "[encoded data removed]",
      "text/plain": [
       "<Figure size 432x288 with 1 Axes>"
      ]
     },
     "metadata": {
      "needs_background": "light"
     },
     "output_type": "display_data"
    }
   ],
   "source": [
    "# Call your function here\n",
    "import matplotlib.pyplot as plt\n",
    "import pandas as pd\n",
    "dataframe = pd.read_csv('Data/Stress.csv')\n",
    "plot_raw(dataframe)"
   ]
  },
  {
   "cell_type": "code",
   "execution_count": 538,
   "metadata": {},
   "outputs": [],
   "source": [
    "def plot_coloured(dataframe):\n",
    "    plt.scatter(x = dataframe.index, y = dataframe['RESP'], c = dataframe['BINARY'])\n",
    "    plt.show(block = False)\n",
    "    \"\"\"\n",
    "        Function 2: plot_coloured(dataframe)\n",
    "        Parameters: dataframe: Stress data DataFrame\n",
    "        Output: Plot\n",
    "    \"\"\"\n",
    "    "
   ]
  },
  {
   "cell_type": "code",
   "execution_count": 539,
   "metadata": {},
   "outputs": [
    {
     "data": {
      "image/png": "[encoded data removed]",
      "text/plain": [
       "<Figure size 432x288 with 1 Axes>"
      ]
     },
     "metadata": {
      "needs_background": "light"
     },
     "output_type": "display_data"
    }
   ],
   "source": [
    "# Call your function here\n",
    "import pandas as pd\n",
    "import matplotlib.pyplot as plt\n",
    "dataframe = pd.read_csv('Data/Stress.csv')\n",
    "dataframe['BINARY'] = [1 if x==2.0 else 0 for x in dataframe['LABEL']]\n",
    "plot_coloured(dataframe)"
   ]
  },
  {
   "cell_type": "markdown",
   "metadata": {},
   "source": [
    "## Task 2"
   ]
  },
  {
   "cell_type": "markdown",
   "metadata": {},
   "source": [
    "Some simple file operations."
   ]
  },
  {
   "cell_type": "code",
   "execution_count": null,
   "metadata": {},
   "outputs": [],
   "source": [
    "\"\"\"\n",
    "    Generate a text file containing 50 integer elements between 1 and 20 (use `random`). \n",
    "    Identify the unique numbers and the number of their occurrences, and write this into \n",
    "    a new text file.\n",
    "    \n",
    "    Example\n",
    "    -------\n",
    "    \n",
    "    Generated File\n",
    "    --------------\n",
    "    1 2 3 4 3 2 1 ...\n",
    "    \n",
    "    Count File\n",
    "    ----------\n",
    "    1 - 2\n",
    "    2 - 2\n",
    "    3 - 2\n",
    "    4 - 1\n",
    "    ...\n",
    "\"\"\""
   ]
  },
  {
   "cell_type": "code",
   "execution_count": 486,
   "metadata": {},
   "outputs": [],
   "source": [
    "def random_numbers():\n",
    "    l = []\n",
    "    for i in range(50):\n",
    "        l.append(random.randint(1,20))\n",
    "    li = ' '.join([str(i) for i in l])\n",
    "    file = open(\"Numbers.txt\",\"w\")\n",
    "    file.write(li)\n",
    "    l.clear()\n",
    "    file.close()\n",
    "    file = open(\"Numbers.txt\",\"r\")\n",
    "    integer = file.readlines()\n",
    "    file.close()\n",
    "    file1 = open(\"Count.txt\",\"w\")\n",
    "    #print(integer[0])\n",
    "    a = [0 for i in range(50)]\n",
    "    word = integer[0].split()\n",
    "    for i in range(len(word)):\n",
    "        a[int(word[i])]+=1\n",
    "    for i in range(20):\n",
    "        if a[i] != 0:\n",
    "            st = str(i)+\" - \"+str(a[i])\n",
    "            file1.write(st+'\\n')   \n",
    "    file1.close()\n",
    "    \"\"\"\n",
    "        Function: random_numbers()\n",
    "        Save: `Numbers.txt` containing the 50 integers,\n",
    "              `Count.txt` containing the count of unique integers\n",
    "    \"\"\"\n",
    "    "
   ]
  },
  {
   "cell_type": "code",
   "execution_count": 487,
   "metadata": {},
   "outputs": [],
   "source": [
    "# Call your function here\n",
    "import random\n",
    "random_numbers()"
   ]
  },
  {
   "cell_type": "markdown",
   "metadata": {},
   "source": [
    "Once you're done, move on to Module 3. Great job!"
   ]
  }
 ],
 "metadata": {
  "kernelspec": {
   "display_name": "Python 3",
   "language": "python",
   "name": "python3"
  },
  "language_info": {
   "codemirror_mode": {
    "name": "ipython",
    "version": 3
   },
   "file_extension": ".py",
   "mimetype": "text/x-python",
   "name": "python",
   "nbconvert_exporter": "python",
   "pygments_lexer": "ipython3",
   "version": "3.7.4"
  }
 },
 "nbformat": 4,
 "nbformat_minor": 2
}
